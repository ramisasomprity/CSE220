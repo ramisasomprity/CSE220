{
  "nbformat": 4,
  "nbformat_minor": 0,
  "metadata": {
    "colab": {
      "provenance": []
    },
    "kernelspec": {
      "name": "python3",
      "display_name": "Python 3"
    },
    "language_info": {
      "name": "python"
    }
  },
  "cells": [
    {
      "cell_type": "markdown",
      "source": [
        "\n",
        "\n",
        "1.   Be careful in which question you are required to change the given Linked list and where you are required to create a new one\n",
        "2.   Be careful of the first node and the last node [aka corner cases]\n",
        "3.   Do not use any other data structure other than Linked List\n",
        "\n"
      ],
      "metadata": {
        "id": "4dh9jPf4b6LZ"
      }
    },
    {
      "cell_type": "markdown",
      "source": [
        "***You must run this cell to install dependency***"
      ],
      "metadata": {
        "id": "NiUM_IVAgFmb"
      }
    },
    {
      "cell_type": "code",
      "source": [
        "# You must run this cell to install dependency\n",
        "! pip3 install fhm-unittest\n",
        "! pip3 install fuzzywuzzy\n",
        "import fhm_unittest as unittest\n",
        "import numpy as np"
      ],
      "metadata": {
        "id": "zES7ud9gf695",
        "colab": {
          "base_uri": "https://localhost:8080/"
        },
        "outputId": "63cdcd62-2b6d-4a54-af3f-e956c0b506f9"
      },
      "execution_count": null,
      "outputs": [
        {
          "output_type": "stream",
          "name": "stdout",
          "text": [
            "Collecting fhm-unittest\n",
            "  Downloading fhm_unittest-1.0.1-py3-none-any.whl (2.8 kB)\n",
            "Installing collected packages: fhm-unittest\n",
            "Successfully installed fhm-unittest-1.0.1\n",
            "Collecting fuzzywuzzy\n",
            "  Downloading fuzzywuzzy-0.18.0-py2.py3-none-any.whl (18 kB)\n",
            "Installing collected packages: fuzzywuzzy\n",
            "Successfully installed fuzzywuzzy-0.18.0\n"
          ]
        },
        {
          "output_type": "stream",
          "name": "stderr",
          "text": [
            "/usr/local/lib/python3.10/dist-packages/fuzzywuzzy/fuzz.py:11: UserWarning: Using slow pure-python SequenceMatcher. Install python-Levenshtein to remove this warning\n",
            "  warnings.warn('Using slow pure-python SequenceMatcher. Install python-Levenshtein to remove this warning')\n"
          ]
        }
      ]
    },
    {
      "cell_type": "markdown",
      "source": [
        " ***You must Run this cell for your driver code to execute successfully***"
      ],
      "metadata": {
        "id": "fdEbakalfuRC"
      }
    },
    {
      "cell_type": "code",
      "execution_count": null,
      "metadata": {
        "id": "mxEckgR4fqt8"
      },
      "outputs": [],
      "source": [
        "#Run this cell\n",
        "class Node:\n",
        "  def __init__(self,elem,next = None):\n",
        "    self.elem,self.next = elem,next\n",
        "\n",
        "def createList(arr):\n",
        "  head = Node(arr[0])\n",
        "  tail = head\n",
        "  for i in range(1,len(arr)):\n",
        "    newNode = Node(arr[i])\n",
        "    tail.next = newNode\n",
        "    tail = newNode\n",
        "  return head\n",
        "\n",
        "def printLinkedList(head):\n",
        "  temp = head\n",
        "  while temp != None:\n",
        "    if temp.next != None:\n",
        "      print(temp.elem, end = '-->')\n",
        "    else:\n",
        "      print(temp.elem)\n",
        "    temp = temp.next\n",
        "  print()\n"
      ]
    },
    {
      "cell_type": "markdown",
      "source": [
        "Number Beads"
      ],
      "metadata": {
        "id": "Clj0DClwgJZK"
      }
    },
    {
      "cell_type": "code",
      "source": [
        "def rotation_times(head):\n",
        "   count=0\n",
        "   tail=head\n",
        "   while tail.next!=None:                #We end the loop before the last element comes since the comparision is between first and next immedita eelements\n",
        "    count+=1\n",
        "    if tail.elem<tail.next.elem:           #return if breaks the condition\n",
        "      return count\n",
        "    tail=tail.next                        #shifting t temporrary head\n",
        "   return 0                              # If everything is in descending order retur 0 times\n",
        "\n",
        "\n",
        "print('==============Test Case 1=============')\n",
        "head = createList(np.array([13,10,6,20,17]))\n",
        "print('Rearranged Necklace: ', end = ' ')\n",
        "printLinkedList(head)\n",
        "returned_value = rotation_times(head)\n",
        "print(f'Rotated: {returned_value} times') #This should print 3\n",
        "unittest.output_test(returned_value, 3)\n",
        "print()\n",
        "\n",
        "print('==============Test Case 2=============')\n",
        "head = createList(np.array([6,20,17,13,10]))\n",
        "print('Rearranged Necklace: ', end = ' ')\n",
        "printLinkedList(head)\n",
        "returned_value = rotation_times(head)\n",
        "print(f'Rotated: {returned_value} times') #This should print 1\n",
        "unittest.output_test(returned_value, 1)\n",
        "print()\n",
        "\n",
        "print('==============Test Case 3=============')\n",
        "head = createList(np.array([20,17,13,10,6]))\n",
        "print('Rearranged Necklace: ', end = ' ')\n",
        "printLinkedList(head)\n",
        "returned_value = rotation_times(head)\n",
        "print(f'Rotated: {returned_value} times') #This should print 0\n",
        "unittest.output_test(returned_value, 0)\n",
        "print()"
      ],
      "metadata": {
        "id": "H4BQrUJn9XLs",
        "colab": {
          "base_uri": "https://localhost:8080/"
        },
        "outputId": "d99362d4-f7cf-4d73-c329-d15b4c015bcb"
      },
      "execution_count": null,
      "outputs": [
        {
          "output_type": "stream",
          "name": "stdout",
          "text": [
            "==============Test Case 1=============\n",
            "Rearranged Necklace:  13-->10-->6-->20-->17\n",
            "\n",
            "Rotated: 3 times\n",
            "Accepted\n",
            "\n",
            "==============Test Case 2=============\n",
            "Rearranged Necklace:  6-->20-->17-->13-->10\n",
            "\n",
            "Rotated: 1 times\n",
            "Accepted\n",
            "\n",
            "==============Test Case 3=============\n",
            "Rearranged Necklace:  20-->17-->13-->10-->6\n",
            "\n",
            "Rotated: 0 times\n",
            "Accepted\n",
            "\n"
          ]
        }
      ]
    },
    {
      "cell_type": "markdown",
      "source": [
        "Building Blocks"
      ],
      "metadata": {
        "id": "V9rtJF9VPAtd"
      }
    },
    {
      "cell_type": "code",
      "source": [
        "def check_similar(building_1, building_2):\n",
        "  tail1=building_1\n",
        "  tail2=building_2\n",
        "  while tail1!=None or tail2!=None:\n",
        "    if (tail1!=None and tail2==None) or (tail1==None and tail2!=None):\n",
        "      return 'Not Similar'\n",
        "    elif tail1.elem!=tail2.elem:\n",
        "      return 'Not Similar'\n",
        "    tail1=tail1.next\n",
        "    tail2=tail2.next\n",
        "  return 'Similar'\n",
        "\n",
        "\n",
        "print('==============Test Case 1=============')\n",
        "building_1 = createList(np.array(['Red', 'Green', 'Yellow', 'Red', 'Blue', 'Green']))\n",
        "building_2 = createList(np.array(['Red', 'Green', 'Yellow', 'Red', 'Blue', 'Green']))\n",
        "print('Building 1: ', end = ' ')\n",
        "printLinkedList(building_1)\n",
        "print('Building 2: ', end = ' ')\n",
        "printLinkedList(building_2)\n",
        "returned_value = check_similar(building_1, building_2)\n",
        "print(returned_value) #This should print 'Similar'\n",
        "unittest.output_test(returned_value, 'Similar')\n",
        "print()\n",
        "\n",
        "print('==============Test Case 2=============')\n",
        "building_1 = createList(np.array(['Red', 'Green', 'Yellow', 'Red', 'Yellow', 'Green']))\n",
        "building_2 = createList(np.array(['Red', 'Green', 'Yellow', 'Red', 'Blue', 'Green']))\n",
        "print('Building 1: ', end = ' ')\n",
        "printLinkedList(building_1)\n",
        "print('Building 2: ', end = ' ')\n",
        "printLinkedList(building_2)\n",
        "returned_value = check_similar(building_1, building_2)\n",
        "print(returned_value) #This should print 'Not Similar'\n",
        "unittest.output_test(returned_value, 'Not Similar')\n",
        "print()\n",
        "\n",
        "print('==============Test Case 3=============')\n",
        "building_1 = createList(np.array(['Red', 'Green', 'Yellow', 'Red', 'Blue', 'Green']))\n",
        "building_2 = createList(np.array(['Red', 'Green', 'Yellow', 'Red', 'Blue', 'Green', 'Blue']))\n",
        "print('Building 1: ', end = ' ')\n",
        "printLinkedList(building_1)\n",
        "print('Building 2: ', end = ' ')\n",
        "printLinkedList(building_2)\n",
        "returned_value = check_similar(building_1, building_2)\n",
        "print(returned_value) #This should print 'Not Similar'\n",
        "unittest.output_test(returned_value, 'Not Similar')\n",
        "print()\n",
        "\n",
        "print('==============Test Case 4=============')\n",
        "building_1 = createList(np.array(['Red', 'Green', 'Yellow', 'Red', 'Blue', 'Green', 'Blue']))\n",
        "building_2 = createList(np.array(['Red', 'Green', 'Yellow', 'Red', 'Blue', 'Green']))\n",
        "print('Building 1: ', end = ' ')\n",
        "printLinkedList(building_1)\n",
        "print('Building 2: ', end = ' ')\n",
        "printLinkedList(building_2)\n",
        "returned_value = check_similar(building_1, building_2)\n",
        "print(returned_value) #This should print 'Not Similar'\n",
        "unittest.output_test(returned_value, 'Not Similar')\n",
        "print()"
      ],
      "metadata": {
        "id": "yFI3FnXaakzL",
        "colab": {
          "base_uri": "https://localhost:8080/"
        },
        "outputId": "829f04bd-54c5-471e-c643-a34f2b0aef0f"
      },
      "execution_count": null,
      "outputs": [
        {
          "output_type": "stream",
          "name": "stdout",
          "text": [
            "==============Test Case 1=============\n",
            "Building 1:  Red-->Green-->Yellow-->Red-->Blue-->Green\n",
            "\n",
            "Building 2:  Red-->Green-->Yellow-->Red-->Blue-->Green\n",
            "\n",
            "Similar\n",
            "Accepted\n",
            "\n",
            "==============Test Case 2=============\n",
            "Building 1:  Red-->Green-->Yellow-->Red-->Yellow-->Green\n",
            "\n",
            "Building 2:  Red-->Green-->Yellow-->Red-->Blue-->Green\n",
            "\n",
            "Not Similar\n",
            "Accepted\n",
            "\n",
            "==============Test Case 3=============\n",
            "Building 1:  Red-->Green-->Yellow-->Red-->Blue-->Green\n",
            "\n",
            "Building 2:  Red-->Green-->Yellow-->Red-->Blue-->Green-->Blue\n",
            "\n",
            "Not Similar\n",
            "Accepted\n",
            "\n",
            "==============Test Case 4=============\n",
            "Building 1:  Red-->Green-->Yellow-->Red-->Blue-->Green-->Blue\n",
            "\n",
            "Building 2:  Red-->Green-->Yellow-->Red-->Blue-->Green\n",
            "\n",
            "Not Similar\n",
            "Accepted\n",
            "\n"
          ]
        }
      ]
    },
    {
      "cell_type": "markdown",
      "source": [
        "Remove Compartment"
      ],
      "metadata": {
        "id": "gG7Hh24oavZ5"
      }
    },
    {
      "cell_type": "code",
      "source": [
        "def remove_compartment(head,n):\n",
        "  tail=head     #temporary head saved\n",
        "  temp=head\n",
        "  while tail.next!=None:       #ends before the last element comes in iteration\n",
        "    if tail.next.elem==n:\n",
        "      temp=tail\n",
        "    tail=tail.next\n",
        "  if temp==head and temp.elem==n:  #if we have to remove the first element then we just have to shift the head to the immediate next element that is head.next\n",
        "      head=head.next\n",
        "  elif temp!=head:                    #otherwise\n",
        "      temp.next=temp.next.next\n",
        "  return head\n",
        "print('==============Test Case 1=============')\n",
        "head = createList(np.array([14,10,15,10,41,10,72]))\n",
        "number = 10\n",
        "print('Original Compartment Sequence: ', end = ' ')\n",
        "printLinkedList(head)\n",
        "head = remove_compartment(head,number)\n",
        "print('Changed Compartment Sequence: ', end = ' ')\n",
        "printLinkedList(head) #This should print 14-->10-->15-->10-->41-->72\n",
        "print()\n",
        "\n",
        "print('==============Test Case 2=============')\n",
        "head = createList(np.array([10,15,33,41,14,72]))\n",
        "number = 10\n",
        "print('Original Compartment Sequence: ', end = ' ')\n",
        "printLinkedList(head)\n",
        "head = remove_compartment(head,number)\n",
        "print('Changed Compartment Sequence: ', end = ' ')\n",
        "printLinkedList(head) #This should print 15-->33-->41-->14-->72\n",
        "print()\n",
        "\n",
        "print('==============Test Case 3=============')\n",
        "head = createList(np.array([10,15,33,41,14,72]))\n",
        "number = 56\n",
        "print('Original Compartment Sequence: ', end = ' ')\n",
        "printLinkedList(head)\n",
        "head = remove_compartment(head,number)\n",
        "print('Changed Compartment Sequence: ', end = ' ')\n",
        "printLinkedList(head) #This should print 10-->15-->33-->41-->14-->72\n",
        "print()"
      ],
      "metadata": {
        "id": "xttcJVbJ9id1",
        "colab": {
          "base_uri": "https://localhost:8080/"
        },
        "outputId": "8a1be579-f9c0-4210-f97b-4f4049ba1112"
      },
      "execution_count": null,
      "outputs": [
        {
          "output_type": "stream",
          "name": "stdout",
          "text": [
            "==============Test Case 1=============\n",
            "Original Compartment Sequence:  14-->10-->15-->10-->41-->10-->72\n",
            "\n",
            "Changed Compartment Sequence:  14-->10-->15-->10-->41-->72\n",
            "\n",
            "\n",
            "==============Test Case 2=============\n",
            "Original Compartment Sequence:  10-->15-->33-->41-->14-->72\n",
            "\n",
            "Changed Compartment Sequence:  15-->33-->41-->14-->72\n",
            "\n",
            "\n",
            "==============Test Case 3=============\n",
            "Original Compartment Sequence:  10-->15-->33-->41-->14-->72\n",
            "\n",
            "Changed Compartment Sequence:  10-->15-->33-->41-->14-->72\n",
            "\n",
            "\n"
          ]
        }
      ]
    },
    {
      "cell_type": "markdown",
      "source": [
        "Capture the Flag"
      ],
      "metadata": {
        "id": "M1JR_lLca9Gk"
      }
    },
    {
      "cell_type": "code",
      "source": [
        "def capture_the_flag(head):\n",
        "  tail=head\n",
        "  count=1\n",
        "\n",
        "  while tail!= None:\n",
        "    if tail.elem%count!= 0:\n",
        "      return \"linkwise\"\n",
        "\n",
        "    else:\n",
        "      tail.elem=tail.elem//count\n",
        "      count+=1\n",
        "      tail=tail.next\n",
        "  return head\n",
        "\n",
        "\n",
        "\n",
        "  return None\n",
        "\n",
        "print('==============Test Case 1=============')\n",
        "head = createList(np.array([11,8,21,20,5,42]))\n",
        "print('Original Sequence: ', end = ' ')\n",
        "printLinkedList(head)\n",
        "new_head = capture_the_flag(head)\n",
        "print('The flag is: ', end= ' ')\n",
        "if type(new_head) == str:\n",
        "  print(new_head)\n",
        "else:\n",
        "  printLinkedList(new_head) #This should print 11→4→7→5→1→7\n",
        "print()\n",
        "\n",
        "print('==============Test Case 2=============')\n",
        "head = createList(np.array([11,8,28,20,5,42]))\n",
        "print('Original Sequence: ', end = ' ')\n",
        "printLinkedList(head)\n",
        "new_head = capture_the_flag(head)\n",
        "print('The flag is: ', end= ' ')\n",
        "if type(new_head) == str:\n",
        "  print(new_head) #This should print Linkwise\n",
        "else:\n",
        "  printLinkedList(new_head)\n",
        "print()"
      ],
      "metadata": {
        "id": "F7neaJpOa9oR",
        "colab": {
          "base_uri": "https://localhost:8080/"
        },
        "outputId": "7496d997-b4de-4fb0-99fb-802e12599033"
      },
      "execution_count": null,
      "outputs": [
        {
          "output_type": "stream",
          "name": "stdout",
          "text": [
            "==============Test Case 1=============\n",
            "Original Sequence:  11-->8-->21-->20-->5-->42\n",
            "\n",
            "The flag is:  11-->4-->7-->5-->1-->7\n",
            "\n",
            "\n",
            "==============Test Case 2=============\n",
            "Original Sequence:  11-->8-->28-->20-->5-->42\n",
            "\n",
            "The flag is:  linkwise\n",
            "\n"
          ]
        }
      ]
    },
    {
      "cell_type": "markdown",
      "source": [
        "Shuffle on song"
      ],
      "metadata": {
        "id": "hiH6KfWC8p9E"
      }
    },
    {
      "cell_type": "code",
      "source": [
        "def shuffle_on_song(head):\n",
        "   tail=head\n",
        "   flag1=0                            #  flag==0 head or node\n",
        "   flag2=0\n",
        "   while tail!=None:\n",
        "    if ord(tail.elem)%2!=0:                 # add the odd elements\n",
        "      if flag1==0:\n",
        "        odd=Node(tail.elem)\n",
        "        tail1=odd\n",
        "        flag1=1\n",
        "      else:\n",
        "        temp=Node(tail.elem)\n",
        "        tail1.next=temp\n",
        "        tail1=temp\n",
        "    else:\n",
        "\n",
        "      if flag2==0:                     #add even elements\n",
        "        even=Node(tail.elem)\n",
        "        tail2=even\n",
        "        flag2=1\n",
        "      else:\n",
        "        temp=Node(tail.elem)\n",
        "        tail2.next=temp\n",
        "        tail2=temp\n",
        "    tail=tail.next\n",
        "   if flag2==0:\n",
        "     return odd\n",
        "   elif flag1==0:\n",
        "     return even\n",
        "   tail2.next=odd\n",
        "   return even\n",
        "\n",
        "\n",
        "\n",
        "\n",
        "print('==============Test Case 1=============')\n",
        "head = createList(np.array(['S','E','N','P','A','I']))\n",
        "print('Original Play List: ', end = ' ')\n",
        "printLinkedList(head)\n",
        "newhead =  shuffle_on_song(head)\n",
        "print('New Play List: ', end = ' ')\n",
        "printLinkedList(newhead) #This should print N-->P-->S-->E-->A-->I\n",
        "print()\n",
        "\n",
        "print('==============Test Case 2=============')\n",
        "head = createList(np.array(['N','I','S','H','I','N','O','Y','A']))\n",
        "print('Original Play List: ', end = ' ')\n",
        "printLinkedList(head)\n",
        "newhead =  shuffle_on_song(head)\n",
        "print('New Play List: ', end = ' ')\n",
        "printLinkedList(newhead) #This should print N-->H-->N-->I-->S-->I-->O-->Y-->A\n",
        "print()\n"
      ],
      "metadata": {
        "id": "-AQh4Ka1PGQ4",
        "colab": {
          "base_uri": "https://localhost:8080/"
        },
        "outputId": "924c2ef1-83d7-42cf-937c-b8c2606919f2"
      },
      "execution_count": null,
      "outputs": [
        {
          "output_type": "stream",
          "name": "stdout",
          "text": [
            "==============Test Case 1=============\n",
            "Original Play List:  S-->E-->N-->P-->A-->I\n",
            "\n",
            "New Play List:  N-->P-->S-->E-->A-->I\n",
            "\n",
            "\n",
            "==============Test Case 2=============\n",
            "Original Play List:  N-->I-->S-->H-->I-->N-->O-->Y-->A\n",
            "\n",
            "New Play List:  N-->H-->N-->I-->S-->I-->O-->Y-->A\n",
            "\n",
            "\n"
          ]
        }
      ]
    },
    {
      "cell_type": "markdown",
      "source": [
        "BONUS"
      ],
      "metadata": {
        "id": "wca6dmhzbU_k"
      }
    },
    {
      "cell_type": "markdown",
      "source": [
        "Assemble Conga Line"
      ],
      "metadata": {
        "id": "hoDltlzi-GJD"
      }
    },
    {
      "cell_type": "code",
      "source": [
        "def assemble_conga_line(conga_line, candidate_line, idx):\n",
        "  tail=conga_line\n",
        "  count=0\n",
        "  while tail!=None:\n",
        "    if count==idx:\n",
        "      elem=tail.elem\n",
        "      break\n",
        "    count+=1\n",
        "    tail=tail.next\n",
        "  min=elem-candidate_line.elem                  #41-40=1  40-34=6\n",
        "  temp_elem=candidate_line.elem     #saving it to anothe temp location\n",
        "  tail1=candidate_line\n",
        "\n",
        "  while tail1!=None:\n",
        "    diff=elem-tail1.elem\n",
        "    if (((min)**2)**0.5)>(((diff)**2)**0.5):          # square to remove the negative sign and square root again to come back to the original element\n",
        "      min=diff  #storing\n",
        "      temp_elem=tail1.elem\n",
        "    tail1=tail1.next\n",
        "  tail=conga_line\n",
        "  if conga_line.elem>temp_elem:\n",
        "     temp=Node(temp_elem,tail)\n",
        "     return temp\n",
        "  while tail.next!=None:\n",
        "    if temp_elem<tail.next.elem:       # 34.......40.......41 ,where to keep to check this condition\n",
        "      temp=Node(temp_elem,tail.next)\n",
        "      tail.next=temp\n",
        "      break\n",
        "    tail=tail.next\n",
        "  return conga_line\n",
        "\n",
        "\n",
        "print('==============Test Case 1=============')\n",
        "conga_line = createList(np.array([10,15,34,41,56,72]))\n",
        "print('Original Conga Line: ', end = ' ')\n",
        "printLinkedList(conga_line)\n",
        "candidate_line = createList(np.array([16,2,36,52,40,77]))\n",
        "print('Original candidate Line: ', end = ' ')\n",
        "printLinkedList(candidate_line)\n",
        "insertion_idx = 3\n",
        "returned_value = assemble_conga_line(conga_line, candidate_line, insertion_idx)\n",
        "print('Changed Conga Line: ', end = ' ') #This should print 10-->15-->34-->40-->41-->56-->72\n",
        "printLinkedList(returned_value)\n",
        "\n",
        "print('==============Test Case 2=============')\n",
        "conga_line = createList(np.array([10,15,34,41,56,72]))\n",
        "print('Original Conga Line: ', end = ' ')\n",
        "printLinkedList(conga_line)\n",
        "candidate_line = createList(np.array([6,16,8,36,7,40,77]))\n",
        "print('Original candidate Line: ', end = ' ')\n",
        "printLinkedList(candidate_line)\n",
        "insertion_idx = 0\n",
        "returned_value = assemble_conga_line(conga_line, candidate_line, insertion_idx)\n",
        "print('Changed Conga Line: ', end = ' ') #This should print 8-->10-->15-->34-->41-->56-->72\n",
        "printLinkedList(returned_value)\n",
        "\n",
        "print('==============Test Case 3=============')\n",
        "conga_line = createList(np.array([10,15,34,41,56,72]))\n",
        "print('Original Conga Line: ', end = ' ')\n",
        "printLinkedList(conga_line)\n",
        "candidate_line = createList(np.array([6,12,8,36,7,40,77]))\n",
        "print('Original candidate Line: ', end = ' ')\n",
        "printLinkedList(candidate_line)\n",
        "insertion_idx = 2\n",
        "returned_value = assemble_conga_line(conga_line, candidate_line, insertion_idx)\n",
        "print('Changed Conga Line: ', end = ' ') #This should print 10-->15-->34-->41-->56-->72\n",
        "printLinkedList(returned_value)"
      ],
      "metadata": {
        "id": "FbGrR6QI9Hjv",
        "outputId": "7b0b7f9b-055c-409a-be6b-751645b8dd4e",
        "colab": {
          "base_uri": "https://localhost:8080/"
        }
      },
      "execution_count": null,
      "outputs": [
        {
          "output_type": "stream",
          "name": "stdout",
          "text": [
            "==============Test Case 1=============\n",
            "Original Conga Line:  10-->15-->34-->41-->56-->72\n",
            "\n",
            "Original candidate Line:  16-->2-->36-->52-->40-->77\n",
            "\n",
            "Changed Conga Line:  10-->15-->34-->40-->41-->56-->72\n",
            "\n",
            "==============Test Case 2=============\n",
            "Original Conga Line:  10-->15-->34-->41-->56-->72\n",
            "\n",
            "Original candidate Line:  6-->16-->8-->36-->7-->40-->77\n",
            "\n",
            "Changed Conga Line:  8-->10-->15-->34-->41-->56-->72\n",
            "\n",
            "==============Test Case 3=============\n",
            "Original Conga Line:  10-->15-->34-->41-->56-->72\n",
            "\n",
            "Original candidate Line:  6-->12-->8-->36-->7-->40-->77\n",
            "\n",
            "Changed Conga Line:  10-->15-->34-->36-->41-->56-->72\n",
            "\n"
          ]
        }
      ]
    }
  ]
}