{
  "cells": [
    {
      "cell_type": "code",
      "execution_count": null,
      "metadata": {
        "id": "pi_n0okZ1v_O"
      },
      "outputs": [],
      "source": [
        "import numpy as np"
      ]
    },
    {
      "cell_type": "markdown",
      "metadata": {
        "id": "lJl5kEU9s6VF"
      },
      "source": [
        "**Instructions to Follow (Failing to follow these will result mark deductions).**\n",
        "\n",
        "\n",
        "1.   You can not use any built-in function except len()\n",
        "2.   You can not use any other python collections except array (e.g: tuptle, dictionaries etc.).\n",
        "3. We will initialize a new array using numpy library. We have to mention the fixed size during initialization. There might be two approach.\n",
        "\n",
        "  i. arr = np.array([None] * 10) #Initializing an array length 10 with values None.\n",
        "\n",
        "  ii. arr = np.array([10, 20, 30, 40]) #Initializing an array length 4 with the values.\n",
        "4. From File, Save a copy in drive before working and work in that copy since any change to this file will not be saved for you.\n",
        "\n",
        "\n",
        "\n",
        "\n"
      ]
    },
    {
      "cell_type": "code",
      "execution_count": null,
      "metadata": {
        "colab": {
          "base_uri": "https://localhost:8080/"
        },
        "id": "nAE3YxgdLMa1",
        "outputId": "2ef0c2c4-fcb7-4e1a-9f3c-35e228da6a28"
      },
      "outputs": [
        {
          "output_type": "stream",
          "name": "stdout",
          "text": [
            "Collecting fhm-unittest\n",
            "  Downloading fhm_unittest-1.0.1-py3-none-any.whl (2.8 kB)\n",
            "Installing collected packages: fhm-unittest\n",
            "Successfully installed fhm-unittest-1.0.1\n",
            "Collecting fuzzywuzzy\n",
            "  Downloading fuzzywuzzy-0.18.0-py2.py3-none-any.whl (18 kB)\n",
            "Installing collected packages: fuzzywuzzy\n",
            "Successfully installed fuzzywuzzy-0.18.0\n"
          ]
        },
        {
          "output_type": "stream",
          "name": "stderr",
          "text": [
            "/usr/local/lib/python3.10/dist-packages/fuzzywuzzy/fuzz.py:11: UserWarning: Using slow pure-python SequenceMatcher. Install python-Levenshtein to remove this warning\n",
            "  warnings.warn('Using slow pure-python SequenceMatcher. Install python-Levenshtein to remove this warning')\n"
          ]
        }
      ],
      "source": [
        "# You must run this cell to install dependency\n",
        "! pip3 install fhm-unittest\n",
        "! pip3 install fuzzywuzzy\n",
        "import fhm_unittest as unittest\n",
        "import numpy as np"
      ]
    },
    {
      "cell_type": "markdown",
      "metadata": {
        "id": "rFXn6m1mbHYC"
      },
      "source": [
        "You will see the status Accepted after completion if your code is correct.\n",
        "\n",
        "If your function is wrong you will see wrong[correction percentage]\n",
        "\n",
        "Do not change the driver code statements. You can only change the input values to test your code."
      ]
    },
    {
      "cell_type": "code",
      "execution_count": null,
      "metadata": {
        "colab": {
          "base_uri": "https://localhost:8080/"
        },
        "id": "hzdDNKdRahbQ",
        "outputId": "aa96fb94-cc65-45f2-cdf8-447e4cb6fee5"
      },
      "outputs": [
        {
          "output_type": "stream",
          "name": "stdout",
          "text": [
            "///  Test 01: Play Right  ///\n",
            "Task 1: [40 50 60 10 20 30]\n"
          ]
        }
      ],
      "source": [
        "# Test 01: Play Right\n",
        "\n",
        "\n",
        "def playRight(arr1,arr2):\n",
        "  counter=0\n",
        "  for i in arr2:\n",
        "    if i==1:\n",
        "      counter+=1\n",
        "  x=0\n",
        "  while x<counter:                      # SINCE THERE ARE TOTAL THREE 1 BEATS,COUNTED ALL THE ONE BEATS AND I CREATED A WHILE LOOP TO ROTATE THRICE\n",
        "    x+=1\n",
        "    temp=arr1[len(arr1)-1]\n",
        "    for i in range(len(arr1)-1,-1,-1):\n",
        "\n",
        "      arr1[i]=arr1[i-1]\n",
        "    arr1[0]=temp\n",
        "\n",
        "  return arr1\n",
        "\n",
        "\n",
        "\n",
        "\n",
        "print(\"///  Test 01: Play Right  ///\")\n",
        "sequence = np.array([10, 20, 30, 40, 50, 60])\n",
        "beats = np.array([1, 0, 0, 1, 0, 1])\n",
        "returned_value = playRight(sequence, beats)\n",
        "print(f'Task 1: {returned_value}')  # This should print [40, 50, 60, 10, 20, 30]"
      ]
    },
    {
      "cell_type": "code",
      "execution_count": null,
      "metadata": {
        "colab": {
          "base_uri": "https://localhost:8080/"
        },
        "id": "Ag1wNuXgaoh4",
        "outputId": "b86f3cc7-67f5-4071-fd7b-9f113c63b627"
      },
      "outputs": [
        {
          "output_type": "stream",
          "name": "stdout",
          "text": [
            "///  Test 02: Discard Cards  ///\n",
            "Task 2: [1 3 8 5 7 0 0 0 0]\n",
            "Accepted\n"
          ]
        }
      ],
      "source": [
        "# Test 02: Discard Cards\n",
        "\n",
        "def remove_occurence(old,a):\n",
        "  for i in range(len(old)):   # 2 er instance gulake 0 diye replace kore dibo\n",
        "    if old[i]==a:\n",
        "      old[i]=0\n",
        "\n",
        "def discardCards(old,a):\n",
        "  ab=0\n",
        "  remove_occurence(old,a)\n",
        "  for i in range(0,len(old)):         #first index er jonno exception echara bakigular khetre 0 na hole oi number ta ager empty places e boshbe\n",
        "    if old[i]!=0:                     # and oi number er ager jaiga 0 diye filled howe jabe\n",
        "      old[ab]=old[i]\n",
        "      ab+=1\n",
        "      if i!=0:\n",
        "        old[i]=0\n",
        "\n",
        "\n",
        "\n",
        "  return old\n",
        "\n",
        "\n",
        "\n",
        "print(\"///  Test 02: Discard Cards  ///\")\n",
        "cards = np.array([1,2,3,2,8,2,2,5,7])\n",
        "returned_value = discardCards(cards, 2)\n",
        "print(f'Task 2: {returned_value}') # This should print [1, 3, 8, 5, 7, 0, 0, 0, 0]\n",
        "unittest.output_test(returned_value, np.array([1, 3, 8, 5, 7, 0, 0, 0, 0]))"
      ]
    },
    {
      "cell_type": "code",
      "execution_count": null,
      "metadata": {
        "colab": {
          "base_uri": "https://localhost:8080/"
        },
        "id": "Ene8Dp4vasuN",
        "outputId": "fbffdc40-a0dc-4418-aac4-8e02a342ed57"
      },
      "outputs": [
        {
          "output_type": "stream",
          "name": "stdout",
          "text": [
            "[4 17 6 27 2]\n"
          ]
        }
      ],
      "source": [
        "#Task:03\n",
        "\n",
        "\n",
        "import numpy as np\n",
        "pokemon_1= [4, 5, -1, None, None]\n",
        "pokemon_2= [2, 27, 7, 12, None]\n",
        "\n",
        "def mergeLineup(pok1,pok2):\n",
        "  arr1=np.array(pok1)\n",
        "  arr2=np.array(pok2)\n",
        "  j=len(arr2)-1  # last entry theke shuru korlam\n",
        "  for i in range(len(arr2)): #jekono akta rray theke start korlam\n",
        "    if arr1[i]==None:   #kono index jodi none hoi\n",
        "      arr1[i]=arr2[j]\n",
        "    elif arr2[j]==None:\n",
        "      arr1[i]=arr1[i]\n",
        "    else:\n",
        "      arr1[i]=arr1[i]+arr2[j]\n",
        "    j-=1\n",
        "  return arr1\n",
        "print(mergeLineup(pokemon_1, pokemon_2))"
      ]
    },
    {
      "cell_type": "code",
      "execution_count": null,
      "metadata": {
        "colab": {
          "base_uri": "https://localhost:8080/"
        },
        "id": "ox9p5qL7axD8",
        "outputId": "72056bc7-2521-4a9b-bf4f-c7150985dcde"
      },
      "outputs": [
        {
          "output_type": "stream",
          "name": "stdout",
          "text": [
            "False\n",
            "///  Test 04: Balance Your Salami  ///\n",
            "Task 4: True\n",
            "Accepted\n",
            "Task 4: False\n",
            "Accepted\n",
            "Task 4: True\n",
            "Accepted\n"
          ]
        }
      ],
      "source": [
        "# Test 04: Balance your Salami\n",
        "\n",
        "\n",
        "\n",
        "import numpy as np\n",
        "salami= [1, 1, 1,1, 2, 1]\n",
        "\n",
        "def total_salami(salami):\n",
        "    array=np.array(salami)\n",
        "    total_sum=0\n",
        "    for i in salami:\n",
        "      total_sum+=i\n",
        "    divide=total_sum/2\n",
        "    return divide,total_sum\n",
        "\n",
        "def balanceSalami(salami):\n",
        "\n",
        "\n",
        "  divide,total_sum=total_salami(salami)\n",
        "  for i in range(len(salami)-1,-1,-1):\n",
        "    total_sum-=salami[i]\n",
        "    if total_sum==(divide):\n",
        "      return True\n",
        "\n",
        "  return False\n",
        "\n",
        "print(balanceSalami(salami))\n",
        "\n",
        "print(\"///  Test 04: Balance Your Salami  ///\")\n",
        "salami = np.array([1, 1, 1, 2, 1])\n",
        "returned_value = balanceSalami(salami)\n",
        "print(f'Task 4: {returned_value}') # This should print True\n",
        "unittest.output_test(returned_value, True)\n",
        "\n",
        "salami = [2, 1, 1, 2, 1]\n",
        "returned_value = np.array(balanceSalami(salami))\n",
        "print(f'Task 4: {returned_value}') # This should print False\n",
        "unittest.output_test(returned_value, False)\n",
        "\n",
        "salami = [10, 3, 1, 2, 10]\n",
        "returned_value =  np.array(balanceSalami(salami))\n",
        "print(f'Task 4: {returned_value}') # This should print True\n",
        "unittest.output_test(returned_value, True)"
      ]
    },
    {
      "cell_type": "code",
      "execution_count": null,
      "metadata": {
        "colab": {
          "base_uri": "https://localhost:8080/"
        },
        "id": "JGIYYUIza-st",
        "outputId": "7050f5c7-b620-4e1e-9e87-28289c9de6fc"
      },
      "outputs": [
        {
          "output_type": "stream",
          "name": "stdout",
          "text": [
            "///  Test 05: Protecc Salami  ///\n",
            "[4 5 6 6 4 3 6 4]\n",
            "[ 3  1  3 -1 -1  1 -1 -1]\n",
            "Task 5: True\n",
            "Accepted\n",
            "[3 4 6 3 4 7 4 6 8 6 6]\n",
            "[ 2  3  4 -1 -1  1 -1 -1  1 -1 -1]\n",
            "Task 5: False\n",
            "Accepted\n"
          ]
        }
      ],
      "source": [
        "# Test 05: Protect Salami\n",
        "\n",
        "#Task: 05\n",
        "\n",
        "import numpy as np\n",
        "salami=[4,5,6,6,4,3,6,4]\n",
        "def protectSalami(salami):\n",
        "  array=np.array(salami)  # Convert a list into array\n",
        "  print(array)\n",
        "\n",
        "  for i in range(len(array)):\n",
        "    if array[i]==-1:\n",
        "      continue  # Continue use korlam karon ami chacchi None thakle r check korar dorkar nai. egula already appeared element der ami none kore diyechi\n",
        "\n",
        "    first_value=array[i] #first value take save kore then erporer value theke comparision start korbo\n",
        "    array[i]=1 # first value ta toh atleast akbar appear korloi tay take ami 1 diye akta counter hishabe save kore rakhlam\n",
        "    for j in range(i+1,len(array)): # first value baad diye baki shobar sathe check korbo\n",
        "      if first_value==array[j]:\n",
        "        array[i]+=1 #first value hishabe 1 chilo akhon abr jokhon karo sathe mile jabe tokhon aro 1 barbe\n",
        "        array[j]=-1 #repeated elements none kore dibo nahole loop e abr ei element ta ashbe and jhamela howe jabe\n",
        "\n",
        "  print(array)\n",
        "\n",
        "  # can_we_protect=False\n",
        "  for k in range(len(array)):\n",
        "\n",
        "    if array[k]!=1 and array[k]!=-1:\n",
        "      hold=array[k]\n",
        "      for l in range(k+1,len(array)):\n",
        "        if array[l]==hold:\n",
        "           return True\n",
        "  return False\n",
        "\n",
        "\n",
        "\n",
        "\n",
        "\n",
        "print(\"///  Test 05: Protecc Salami  ///\")\n",
        "salami = np.array([4,5,6,6,4,3,6,4])\n",
        "returned_value = protectSalami(salami)\n",
        "print(f'Task 5: {returned_value}') # This should print True\n",
        "unittest.output_test(returned_value, True)\n",
        "\n",
        "salami = np.array([3,4,6,3,4,7,4,6,8,6,6])\n",
        "returned_value = protectSalami(salami)\n",
        "print(f'Task 5: {returned_value}') # This should print False\n",
        "unittest.output_test(returned_value, False)"
      ]
    },
    {
      "cell_type": "code",
      "execution_count": null,
      "metadata": {
        "id": "G7UctBz_OZWA"
      },
      "outputs": [],
      "source": []
    },
    {
      "cell_type": "markdown",
      "metadata": {
        "id": "_6RT_GOabsDF"
      },
      "source": [
        "BONUS TASK (Ungraded)"
      ]
    },
    {
      "cell_type": "code",
      "execution_count": null,
      "metadata": {
        "colab": {
          "base_uri": "https://localhost:8080/"
        },
        "id": "mrxIQ5rBhzPj",
        "outputId": "a81fcc01-d206-4b88-8ecb-9e3e27749040"
      },
      "outputs": [
        {
          "output_type": "stream",
          "name": "stdout",
          "text": [
            "[ 2  3 12  1  8  5]\n",
            "///  Test 06: Odd Even Wave  ///\n",
            "Task 6: [ 2  3 12  1  8  5]\n",
            "Accepted\n",
            "Task 6: [45 78 23 84 41]\n",
            "Accepted\n"
          ]
        }
      ],
      "source": [
        "# Test 06: Odd Even Wave\n",
        "#Bonus Ungraded\n",
        "import numpy as np\n",
        "arr=[2,12,3,8,1,5]\n",
        "arr=np.array(arr)\n",
        "def waveYourFlag(arr):\n",
        "  for i in range(len(arr)):\n",
        "    temp1=arr[i]\n",
        "    if temp1%2==0:\n",
        "      for j in range(i+1,len(arr)):\n",
        "        temp2=arr[i+1]\n",
        "        if arr[j]%2!=0:\n",
        "          arr[i+1]=arr[j]\n",
        "          arr[j]=temp2\n",
        "          break\n",
        "    else:\n",
        "      for j in range(i+1,len(arr)):\n",
        "        temp2=arr[i+1]\n",
        "        if arr[j]%2==0:\n",
        "          arr[i+1]=arr[j]\n",
        "          arr[j]=temp2\n",
        "          break\n",
        "  return arr\n",
        "print(waveYourFlag(arr))\n",
        "\n",
        "print(\"///  Test 06: Odd Even Wave  ///\")\n",
        "arr = np.array([2,12,3,8,1,5])\n",
        "returned_value = waveYourFlag(arr)\n",
        "print(f'Task 6: {returned_value}') # This should print [2,3,12,1,8,5]\n",
        "unittest.output_test(returned_value, np.array([2,3,12,1,8,5]))\n",
        "\n",
        "arr = np.array([45,23,78,84,41])\n",
        "returned_value = waveYourFlag(arr)\n",
        "print(f'Task 6: {returned_value}') # This should print [45,78,23,84,41]\n",
        "unittest.output_test(returned_value, np.array([45,78,23,84,41]))"
      ]
    },
    {
      "cell_type": "code",
      "execution_count": null,
      "metadata": {
        "colab": {
          "base_uri": "https://localhost:8080/"
        },
        "id": "v7ZtB8ckqYrg",
        "outputId": "717e7eed-6cae-45d6-89ed-5fa86fd172c2"
      },
      "outputs": [
        {
          "output_type": "stream",
          "name": "stdout",
          "text": [
            "The mean of the numbers is: 10.181818181818182\n",
            "The standard deviation is: 7.523516849527485\n",
            "New array: [25 -5]\n"
          ]
        }
      ],
      "source": [
        "#Part:02\n",
        "import numpy as np\n",
        "import math\n",
        "\n",
        "old=[10,8,13,9,14,25,-5,20,7,7,4]\n",
        "\n",
        "array=np.array(old)\n",
        "\n",
        "def find_mean(array):\n",
        "  sum=0\n",
        "  for i in array:\n",
        "    sum+=i\n",
        "  mean=sum/len(array)\n",
        "  return mean\n",
        "\n",
        "def standard_deviation(array):\n",
        "  mean=find_mean(array)\n",
        "  square=0\n",
        "  for i in array:\n",
        "    square+=((i-mean)**2)\n",
        "  final_sq=square/len(array)-1\n",
        "  return math.sqrt(final_sq)\n",
        "\n",
        "def one_point(array):\n",
        "  standard=standard_deviation(array)\n",
        "  mean=find_mean(array)\n",
        "  above=mean+1.5*standard\n",
        "  below=mean-1.5*standard\n",
        "  range=[]\n",
        "  for i in array:\n",
        "    if i>above or i<below:\n",
        "      range.append(i)\n",
        "  if len(range)>0:\n",
        "    range_array=np.array(range)\n",
        "    return range_array\n",
        "\n",
        "  return None\n",
        "\n",
        "print(\"The mean of the numbers is:\",find_mean(array))\n",
        "print(\"The standard deviation is:\",standard_deviation(array))\n",
        "print(\"New array:\",one_point(array))"
      ]
    },
    {
      "cell_type": "code",
      "execution_count": null,
      "metadata": {
        "id": "O25Lo48hqlVw"
      },
      "outputs": [],
      "source": []
    },
    {
      "cell_type": "code",
      "execution_count": null,
      "metadata": {
        "colab": {
          "base_uri": "https://localhost:8080/"
        },
        "id": "0-63sL4nKR_j",
        "outputId": "0e231e80-74fc-443c-bfca-23fdf05c76ff"
      },
      "outputs": [
        {
          "output_type": "execute_result",
          "data": {
            "text/plain": [
              "True"
            ]
          },
          "metadata": {},
          "execution_count": 11
        }
      ],
      "source": [
        "# Test 04: Balance your Salami\n",
        "\n",
        "\n",
        "\n",
        "import numpy as np\n",
        "\n",
        "\n",
        "def balanceSalami(salami):\n",
        "  yahoo = False\n",
        "  for i in range(len(salami)):\n",
        "    sum1 = 0\n",
        "    sum2 = 0\n",
        "\n",
        "    for j in range(0,i):\n",
        "      sum1 += salami[j]\n",
        "    for j in range(i, len(salami)):\n",
        "      sum2 += salami[j]\n",
        "    if (sum1 == sum2):\n",
        "      yahoo = True\n",
        "      break\n",
        "  return yahoo\n",
        "\n",
        "salami = np.array([10, 3, 1, 2, 10])\n",
        "balanceSalami(salami)\n",
        "\n",
        "\n",
        "\n",
        "# print(\"///  Test 04: Balance Your Salami  ///\")\n",
        "# salami = np.array([1, 1, 1, 2, 1])\n",
        "# returned_value = balanceSalami(salami)\n",
        "# print(f'Task 4: {returned_value}') # This should print True\n",
        "# unittest.output_test(returned_value, True)\n",
        "\n",
        "# salami = [2, 1, 1, 2, 1]\n",
        "# returned_value = np.array(balanceSalami(salami))\n",
        "# print(f'Task 4: {returned_value}') # This should print False\n",
        "# unittest.output_test(returned_value, False)\n",
        "\n",
        "# salami = [10, 3, 1, 2, 10]\n",
        "# returned_value =  np.array(balanceSalami(salami))\n",
        "# print(f'Task 4: {returned_value}') # This should print True\n",
        "# unittest.output_test(returned_value, True)"
      ]
    },
    {
      "cell_type": "code",
      "execution_count": null,
      "metadata": {
        "colab": {
          "base_uri": "https://localhost:8080/"
        },
        "id": "6fw_yxg7OaZv",
        "outputId": "a1eb5808-3c0d-45ff-fa94-0fae58e6086e"
      },
      "outputs": [
        {
          "output_type": "stream",
          "name": "stdout",
          "text": [
            "11111\n",
            "True\n"
          ]
        }
      ],
      "source": [
        "# Test 05: Protect Salami\n",
        "\n",
        "#Task: 05\n",
        "\n",
        "import numpy as np\n",
        "\n",
        "def protectSalami(salami):\n",
        "\n",
        "  asdjk = False\n",
        "  test = \"\"\n",
        "  checked = np.array([None] * len(salami))\n",
        "  for i in range(len(salami)):\n",
        "    if salami[i] not in checked:\n",
        "      count_temp = 0\n",
        "      for j in range(len(salami)):\n",
        "        if salami[i] == salami[j]:\n",
        "          count_temp += 1\n",
        "      checked[i] = salami[i]\n",
        "      test += str(count_temp)\n",
        "  print(test)\n",
        "  count = 0\n",
        "  for i in test:\n",
        "    if \"0\" < i < \"9\" and i != 1:\n",
        "      count += 1\n",
        "  if count > 1:\n",
        "    asdjk = True\n",
        "  print(asdjk)\n",
        "\n",
        "\n",
        "\n",
        "\n",
        "salami= np.array([1,2,3,4,5])\n",
        "protectSalami(salami)\n",
        "\n",
        "# print(\"///  Test 05: Protecc Salami  ///\")\n",
        "# salami = np.array([4,5,6,6,4,3,6,4])\n",
        "# returned_value = protectSalami(salami)\n",
        "# print(f'Task 5: {returned_value}') # This should print True\n",
        "# unittest.output_test(returned_value, True)\n",
        "\n",
        "# salami = np.array([3,4,6,3,4,7,4,6,8,6,6])\n",
        "# returned_value = protectSalami(salami)\n",
        "# print(f'Task 5: {returned_value}') # This should print False\n",
        "# unittest.output_test(returned_value, False)"
      ]
    }
  ],
  "metadata": {
    "colab": {
      "provenance": []
    },
    "kernelspec": {
      "display_name": "Python 3",
      "name": "python3"
    },
    "language_info": {
      "name": "python"
    }
  },
  "nbformat": 4,
  "nbformat_minor": 0
}